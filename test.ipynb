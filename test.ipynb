{
 "cells": [
  {
   "cell_type": "code",
   "execution_count": 1,
   "metadata": {},
   "outputs": [
    {
     "name": "stderr",
     "output_type": "stream",
     "text": [
      "[I 03/10/25 22:59:54.985 6066] [shell.py:_shell_pop_print@23] Graphical python shell detected, using wrapped sys.stdout\n"
     ]
    }
   ],
   "source": [
    "import torch\n",
    "import genesis as gs"
   ]
  },
  {
   "cell_type": "code",
   "execution_count": 2,
   "metadata": {},
   "outputs": [
    {
     "name": "stderr",
     "output_type": "stream",
     "text": [
      "\u001b[38;5;159m[Genesis] [23:00:00] [INFO] \u001b[38;5;121m╭───────────────────────────────────────────────╮\u001b[0m\u001b[38;5;159m\u001b[0m\n",
      "\u001b[38;5;159m[Genesis] [23:00:00] [INFO] \u001b[38;5;121m│┈┉┈┉┈┉┈┉┈┉┈┉┈┉┈┉┈┉┈\u001b[0m\u001b[38;5;159m \u001b[38;5;121m\u001b[1m\u001b[3mGenesis\u001b[0m\u001b[38;5;159m \u001b[38;5;121m┈┉┈┉┈┉┈┉┈┉┈┉┈┉┈┉┈┉┈│\u001b[0m\u001b[38;5;159m\u001b[0m\n",
      "\u001b[38;5;159m[Genesis] [23:00:00] [INFO] \u001b[38;5;121m╰───────────────────────────────────────────────╯\u001b[0m\u001b[38;5;159m\u001b[0m\n",
      "\u001b[38;5;159m[Genesis] [23:00:00] [INFO] Running on \u001b[38;5;121m\u001b[4m[NVIDIA GeForce RTX 3070]\u001b[0m\u001b[38;5;159m with backend \u001b[38;5;121m\u001b[4mgs.cuda\u001b[0m\u001b[38;5;159m. Device memory: \u001b[38;5;121m\u001b[4m7.77\u001b[0m\u001b[38;5;159m GB.\u001b[0m\n",
      "\u001b[38;5;159m[Genesis] [23:00:00] [INFO] 🚀 Genesis initialized. 🔖 version: \u001b[38;5;121m\u001b[4m0.2.1\u001b[0m\u001b[38;5;159m, 🌱 seed: \u001b[38;5;121m\u001b[4mNone\u001b[0m\u001b[38;5;159m, 📏 precision: '\u001b[38;5;121m\u001b[4m32\u001b[0m\u001b[38;5;159m', 🐛 debug: \u001b[38;5;121m\u001b[4mFalse\u001b[0m\u001b[38;5;159m, 🎨 theme: '\u001b[38;5;121m\u001b[4mdark\u001b[0m\u001b[38;5;159m'.\u001b[0m\n"
     ]
    }
   ],
   "source": [
    "gs.init(backend=gs.gpu)"
   ]
  },
  {
   "cell_type": "code",
   "execution_count": 6,
   "metadata": {},
   "outputs": [],
   "source": [
    "from PIL import Image"
   ]
  },
  {
   "cell_type": "code",
   "execution_count": 8,
   "metadata": {},
   "outputs": [
    {
     "name": "stderr",
     "output_type": "stream",
     "text": [
      "\u001b[38;5;159m[Genesis] [23:23:03] [INFO] Scene \u001b[38;5;121m\u001b[3m<b7a9c36>\u001b[0m\u001b[38;5;159m created.\u001b[0m\n",
      "\u001b[38;5;159m[Genesis] [23:23:03] [INFO] Adding \u001b[38;5;121m<gs.RigidEntity>\u001b[0m\u001b[38;5;159m. idx: \u001b[38;5;121m0\u001b[0m\u001b[38;5;159m, uid: \u001b[38;5;121m\u001b[3m<df54125>\u001b[0m\u001b[38;5;159m, morph: \u001b[38;5;121m<gs.morphs.Plane>\u001b[0m\u001b[38;5;159m, material: \u001b[38;5;121m<gs.materials.Rigid>\u001b[0m\u001b[38;5;159m.\u001b[0m\n",
      "\u001b[38;5;159m[Genesis] [23:23:03] [INFO] Adding \u001b[38;5;121m<gs.RigidEntity>\u001b[0m\u001b[38;5;159m. idx: \u001b[38;5;121m1\u001b[0m\u001b[38;5;159m, uid: \u001b[38;5;121m\u001b[3m<1a051ec>\u001b[0m\u001b[38;5;159m, morph: \u001b[38;5;121m<gs.morphs.URDF(file='/home/mike/Genesis/genesis/assets/urdf/go2/urdf/go2.urdf')>\u001b[0m\u001b[38;5;159m, material: \u001b[38;5;121m<gs.materials.Rigid>\u001b[0m\u001b[38;5;159m.\u001b[0m\n",
      "\u001b[38;5;159m[Genesis] [23:23:04] [INFO] Building scene \u001b[38;5;121m\u001b[3m<b7a9c36>\u001b[0m\u001b[38;5;159m...\u001b[0m\n",
      "\u001b[38;5;159m[Genesis] [23:23:11] [INFO] Compiling simulation kernels...\u001b[0m\n",
      "\u001b[38;5;159m[Genesis] [23:23:34] [INFO] Building visualizer...\u001b[0m\n",
      "\u001b[38;5;159m[Genesis] [23:23:37] [INFO] Viewer created. Resolution: \u001b[38;5;121m720×540\u001b[0m\u001b[38;5;159m, max_FPS: \u001b[38;5;121m60\u001b[0m\u001b[38;5;159m.\u001b[0m\n",
      "\u001b[38;5;159m[Genesis] [23:23:37] [INFO] Running at \u001b[38;5;121m197.97\u001b[0m\u001b[38;5;159m FPS.\u001b[0m\n",
      "\u001b[38;5;159m[Genesis] [23:23:37] [INFO] Running at \u001b[38;5;121m177.31\u001b[0m\u001b[38;5;159m FPS.\u001b[0m\n",
      "\u001b[38;5;159m[Genesis] [23:23:37] [INFO] Running at \u001b[38;5;121m161.94\u001b[0m\u001b[38;5;159m FPS.\u001b[0m\n",
      "\u001b[38;5;159m[Genesis] [23:23:37] [INFO] Running at \u001b[38;5;121m141.08\u001b[0m\u001b[38;5;159m FPS.\u001b[0m\n",
      "\u001b[38;5;159m[Genesis] [23:23:37] [INFO] Running at \u001b[38;5;121m132.53\u001b[0m\u001b[38;5;159m FPS.\u001b[0m\n",
      "\u001b[38;5;159m[Genesis] [23:23:37] [INFO] Running at \u001b[38;5;121m125.37\u001b[0m\u001b[38;5;159m FPS.\u001b[0m\n",
      "\u001b[38;5;159m[Genesis] [23:23:37] [INFO] Running at \u001b[38;5;121m119.79\u001b[0m\u001b[38;5;159m FPS.\u001b[0m\n",
      "\u001b[38;5;159m[Genesis] [23:23:37] [INFO] Running at \u001b[38;5;121m114.36\u001b[0m\u001b[38;5;159m FPS.\u001b[0m\n",
      "\u001b[38;5;159m[Genesis] [23:23:37] [INFO] Running at \u001b[38;5;121m109.78\u001b[0m\u001b[38;5;159m FPS.\u001b[0m\n",
      "\u001b[38;5;159m[Genesis] [23:23:37] [INFO] Running at \u001b[38;5;121m105.71\u001b[0m\u001b[38;5;159m FPS.\u001b[0m\n",
      "\u001b[38;5;159m[Genesis] [23:23:37] [INFO] Running at \u001b[38;5;121m93.47\u001b[0m\u001b[38;5;159m FPS.\u001b[0m\n",
      "\u001b[38;5;159m[Genesis] [23:23:37] [INFO] Running at \u001b[38;5;121m91.04\u001b[0m\u001b[38;5;159m FPS.\u001b[0m\n",
      "\u001b[38;5;159m[Genesis] [23:23:37] [INFO] Running at \u001b[38;5;121m88.91\u001b[0m\u001b[38;5;159m FPS.\u001b[0m\n",
      "\u001b[38;5;159m[Genesis] [23:23:37] [INFO] Running at \u001b[38;5;121m86.93\u001b[0m\u001b[38;5;159m FPS.\u001b[0m\n",
      "\u001b[38;5;159m[Genesis] [23:23:37] [INFO] Running at \u001b[38;5;121m85.16\u001b[0m\u001b[38;5;159m FPS.\u001b[0m\n",
      "\u001b[38;5;159m[Genesis] [23:23:37] [INFO] Running at \u001b[38;5;121m83.51\u001b[0m\u001b[38;5;159m FPS.\u001b[0m\n",
      "\u001b[38;5;159m[Genesis] [23:23:37] [INFO] Running at \u001b[38;5;121m82.02\u001b[0m\u001b[38;5;159m FPS.\u001b[0m\n",
      "\u001b[38;5;159m[Genesis] [23:23:37] [INFO] Running at \u001b[38;5;121m80.59\u001b[0m\u001b[38;5;159m FPS.\u001b[0m\n",
      "\u001b[38;5;159m[Genesis] [23:23:37] [INFO] Running at \u001b[38;5;121m79.34\u001b[0m\u001b[38;5;159m FPS.\u001b[0m\n",
      "\u001b[38;5;159m[Genesis] [23:23:37] [INFO] Running at \u001b[38;5;121m78.21\u001b[0m\u001b[38;5;159m FPS.\u001b[0m\n",
      "\u001b[38;5;159m[Genesis] [23:23:37] [INFO] Running at \u001b[38;5;121m77.15\u001b[0m\u001b[38;5;159m FPS.\u001b[0m\n",
      "\u001b[38;5;159m[Genesis] [23:23:37] [INFO] Running at \u001b[38;5;121m76.14\u001b[0m\u001b[38;5;159m FPS.\u001b[0m\n",
      "\u001b[38;5;159m[Genesis] [23:23:37] [INFO] Running at \u001b[38;5;121m75.23\u001b[0m\u001b[38;5;159m FPS.\u001b[0m\n",
      "\u001b[38;5;159m[Genesis] [23:23:37] [INFO] Running at \u001b[38;5;121m74.24\u001b[0m\u001b[38;5;159m FPS.\u001b[0m\n",
      "\u001b[38;5;159m[Genesis] [23:23:37] [INFO] Running at \u001b[38;5;121m73.49\u001b[0m\u001b[38;5;159m FPS.\u001b[0m\n",
      "\u001b[38;5;159m[Genesis] [23:23:37] [INFO] Running at \u001b[38;5;121m72.77\u001b[0m\u001b[38;5;159m FPS.\u001b[0m\n",
      "\u001b[38;5;159m[Genesis] [23:23:37] [INFO] Running at \u001b[38;5;121m72.08\u001b[0m\u001b[38;5;159m FPS.\u001b[0m\n",
      "\u001b[38;5;159m[Genesis] [23:23:37] [INFO] Running at \u001b[38;5;121m71.50\u001b[0m\u001b[38;5;159m FPS.\u001b[0m\n",
      "\u001b[38;5;159m[Genesis] [23:23:37] [INFO] Running at \u001b[38;5;121m70.96\u001b[0m\u001b[38;5;159m FPS.\u001b[0m\n",
      "\u001b[38;5;159m[Genesis] [23:23:37] [INFO] Running at \u001b[38;5;121m70.40\u001b[0m\u001b[38;5;159m FPS.\u001b[0m\n",
      "\u001b[38;5;159m[Genesis] [23:23:37] [INFO] Running at \u001b[38;5;121m68.22\u001b[0m\u001b[38;5;159m FPS.\u001b[0m\n",
      "\u001b[38;5;159m[Genesis] [23:23:37] [INFO] Running at \u001b[38;5;121m67.86\u001b[0m\u001b[38;5;159m FPS.\u001b[0m\n",
      "\u001b[38;5;159m[Genesis] [23:23:37] [INFO] Running at \u001b[38;5;121m67.51\u001b[0m\u001b[38;5;159m FPS.\u001b[0m\n",
      "\u001b[38;5;159m[Genesis] [23:23:37] [INFO] Running at \u001b[38;5;121m67.18\u001b[0m\u001b[38;5;159m FPS.\u001b[0m\n",
      "\u001b[38;5;159m[Genesis] [23:23:37] [INFO] Running at \u001b[38;5;121m66.89\u001b[0m\u001b[38;5;159m FPS.\u001b[0m\n",
      "\u001b[38;5;159m[Genesis] [23:23:37] [INFO] Running at \u001b[38;5;121m66.58\u001b[0m\u001b[38;5;159m FPS.\u001b[0m\n",
      "\u001b[38;5;159m[Genesis] [23:23:37] [INFO] Running at \u001b[38;5;121m66.29\u001b[0m\u001b[38;5;159m FPS.\u001b[0m\n",
      "\u001b[38;5;159m[Genesis] [23:23:37] [INFO] Running at \u001b[38;5;121m66.01\u001b[0m\u001b[38;5;159m FPS.\u001b[0m\n",
      "\u001b[38;5;159m[Genesis] [23:23:37] [INFO] Running at \u001b[38;5;121m65.76\u001b[0m\u001b[38;5;159m FPS.\u001b[0m\n",
      "\u001b[38;5;159m[Genesis] [23:23:37] [INFO] Running at \u001b[38;5;121m65.53\u001b[0m\u001b[38;5;159m FPS.\u001b[0m\n",
      "\u001b[38;5;159m[Genesis] [23:23:37] [INFO] Running at \u001b[38;5;121m65.30\u001b[0m\u001b[38;5;159m FPS.\u001b[0m\n",
      "\u001b[38;5;159m[Genesis] [23:23:38] [INFO] Running at \u001b[38;5;121m65.10\u001b[0m\u001b[38;5;159m FPS.\u001b[0m\n",
      "\u001b[38;5;159m[Genesis] [23:23:38] [INFO] Running at \u001b[38;5;121m64.91\u001b[0m\u001b[38;5;159m FPS.\u001b[0m\n",
      "\u001b[38;5;159m[Genesis] [23:23:38] [INFO] Running at \u001b[38;5;121m64.73\u001b[0m\u001b[38;5;159m FPS.\u001b[0m\n",
      "\u001b[38;5;159m[Genesis] [23:23:38] [INFO] Running at \u001b[38;5;121m64.51\u001b[0m\u001b[38;5;159m FPS.\u001b[0m\n",
      "\u001b[38;5;159m[Genesis] [23:23:38] [INFO] Running at \u001b[38;5;121m64.36\u001b[0m\u001b[38;5;159m FPS.\u001b[0m\n",
      "\u001b[38;5;159m[Genesis] [23:23:38] [INFO] Running at \u001b[38;5;121m64.18\u001b[0m\u001b[38;5;159m FPS.\u001b[0m\n",
      "\u001b[38;5;159m[Genesis] [23:23:38] [INFO] Running at \u001b[38;5;121m64.03\u001b[0m\u001b[38;5;159m FPS.\u001b[0m\n",
      "\u001b[38;5;159m[Genesis] [23:23:38] [INFO] Running at \u001b[38;5;121m63.91\u001b[0m\u001b[38;5;159m FPS.\u001b[0m\n",
      "\u001b[38;5;159m[Genesis] [23:23:38] [INFO] Running at \u001b[38;5;121m63.83\u001b[0m\u001b[38;5;159m FPS.\u001b[0m\n",
      "\u001b[38;5;159m[Genesis] [23:23:38] [INFO] Running at \u001b[38;5;121m63.71\u001b[0m\u001b[38;5;159m FPS.\u001b[0m\n",
      "\u001b[38;5;159m[Genesis] [23:23:38] [INFO] Running at \u001b[38;5;121m63.54\u001b[0m\u001b[38;5;159m FPS.\u001b[0m\n",
      "\u001b[38;5;159m[Genesis] [23:23:38] [INFO] Running at \u001b[38;5;121m63.47\u001b[0m\u001b[38;5;159m FPS.\u001b[0m\n",
      "\u001b[38;5;159m[Genesis] [23:23:38] [INFO] Running at \u001b[38;5;121m63.34\u001b[0m\u001b[38;5;159m FPS.\u001b[0m\n",
      "\u001b[38;5;159m[Genesis] [23:23:38] [INFO] Running at \u001b[38;5;121m63.33\u001b[0m\u001b[38;5;159m FPS.\u001b[0m\n",
      "\u001b[38;5;159m[Genesis] [23:23:38] [INFO] Running at \u001b[38;5;121m63.23\u001b[0m\u001b[38;5;159m FPS.\u001b[0m\n",
      "\u001b[38;5;159m[Genesis] [23:23:38] [INFO] Running at \u001b[38;5;121m63.13\u001b[0m\u001b[38;5;159m FPS.\u001b[0m\n",
      "\u001b[38;5;159m[Genesis] [23:23:38] [INFO] Running at \u001b[38;5;121m63.02\u001b[0m\u001b[38;5;159m FPS.\u001b[0m\n",
      "\u001b[38;5;159m[Genesis] [23:23:38] [INFO] Running at \u001b[38;5;121m62.84\u001b[0m\u001b[38;5;159m FPS.\u001b[0m\n",
      "\u001b[38;5;159m[Genesis] [23:23:38] [INFO] Running at \u001b[38;5;121m62.77\u001b[0m\u001b[38;5;159m FPS.\u001b[0m\n",
      "\u001b[38;5;159m[Genesis] [23:23:38] [INFO] Running at \u001b[38;5;121m62.68\u001b[0m\u001b[38;5;159m FPS.\u001b[0m\n",
      "\u001b[38;5;159m[Genesis] [23:23:38] [INFO] Running at \u001b[38;5;121m62.61\u001b[0m\u001b[38;5;159m FPS.\u001b[0m\n",
      "\u001b[38;5;159m[Genesis] [23:23:38] [INFO] Running at \u001b[38;5;121m62.52\u001b[0m\u001b[38;5;159m FPS.\u001b[0m\n",
      "\u001b[38;5;159m[Genesis] [23:23:38] [INFO] Running at \u001b[38;5;121m62.48\u001b[0m\u001b[38;5;159m FPS.\u001b[0m\n",
      "\u001b[38;5;159m[Genesis] [23:23:38] [INFO] Running at \u001b[38;5;121m62.41\u001b[0m\u001b[38;5;159m FPS.\u001b[0m\n",
      "\u001b[38;5;159m[Genesis] [23:23:38] [INFO] Running at \u001b[38;5;121m62.36\u001b[0m\u001b[38;5;159m FPS.\u001b[0m\n",
      "\u001b[38;5;159m[Genesis] [23:23:38] [INFO] Running at \u001b[38;5;121m62.28\u001b[0m\u001b[38;5;159m FPS.\u001b[0m\n",
      "\u001b[38;5;159m[Genesis] [23:23:38] [INFO] Running at \u001b[38;5;121m62.26\u001b[0m\u001b[38;5;159m FPS.\u001b[0m\n",
      "\u001b[38;5;159m[Genesis] [23:23:38] [INFO] Running at \u001b[38;5;121m62.20\u001b[0m\u001b[38;5;159m FPS.\u001b[0m\n",
      "\u001b[38;5;159m[Genesis] [23:23:38] [INFO] Running at \u001b[38;5;121m62.16\u001b[0m\u001b[38;5;159m FPS.\u001b[0m\n",
      "\u001b[38;5;159m[Genesis] [23:23:38] [INFO] Running at \u001b[38;5;121m62.11\u001b[0m\u001b[38;5;159m FPS.\u001b[0m\n",
      "\u001b[38;5;159m[Genesis] [23:23:38] [INFO] Running at \u001b[38;5;121m62.07\u001b[0m\u001b[38;5;159m FPS.\u001b[0m\n",
      "\u001b[38;5;159m[Genesis] [23:23:38] [INFO] Running at \u001b[38;5;121m62.00\u001b[0m\u001b[38;5;159m FPS.\u001b[0m\n",
      "\u001b[38;5;159m[Genesis] [23:23:38] [INFO] Running at \u001b[38;5;121m61.98\u001b[0m\u001b[38;5;159m FPS.\u001b[0m\n",
      "\u001b[38;5;159m[Genesis] [23:23:38] [INFO] Running at \u001b[38;5;121m61.95\u001b[0m\u001b[38;5;159m FPS.\u001b[0m\n",
      "\u001b[38;5;159m[Genesis] [23:23:38] [INFO] Running at \u001b[38;5;121m61.93\u001b[0m\u001b[38;5;159m FPS.\u001b[0m\n",
      "\u001b[38;5;159m[Genesis] [23:23:38] [INFO] Running at \u001b[38;5;121m61.84\u001b[0m\u001b[38;5;159m FPS.\u001b[0m\n",
      "\u001b[38;5;159m[Genesis] [23:23:38] [INFO] Running at \u001b[38;5;121m61.79\u001b[0m\u001b[38;5;159m FPS.\u001b[0m\n",
      "\u001b[38;5;159m[Genesis] [23:23:38] [INFO] Running at \u001b[38;5;121m61.81\u001b[0m\u001b[38;5;159m FPS.\u001b[0m\n",
      "\u001b[38;5;159m[Genesis] [23:23:38] [INFO] Running at \u001b[38;5;121m61.77\u001b[0m\u001b[38;5;159m FPS.\u001b[0m\n",
      "\u001b[38;5;159m[Genesis] [23:23:38] [INFO] Running at \u001b[38;5;121m61.74\u001b[0m\u001b[38;5;159m FPS.\u001b[0m\n",
      "\u001b[38;5;159m[Genesis] [23:23:38] [INFO] Running at \u001b[38;5;121m61.72\u001b[0m\u001b[38;5;159m FPS.\u001b[0m\n",
      "\u001b[38;5;159m[Genesis] [23:23:38] [INFO] Running at \u001b[38;5;121m61.69\u001b[0m\u001b[38;5;159m FPS.\u001b[0m\n",
      "\u001b[38;5;159m[Genesis] [23:23:38] [INFO] Running at \u001b[38;5;121m61.68\u001b[0m\u001b[38;5;159m FPS.\u001b[0m\n",
      "\u001b[38;5;159m[Genesis] [23:23:38] [INFO] Running at \u001b[38;5;121m61.66\u001b[0m\u001b[38;5;159m FPS.\u001b[0m\n",
      "\u001b[38;5;159m[Genesis] [23:23:38] [INFO] Running at \u001b[38;5;121m61.64\u001b[0m\u001b[38;5;159m FPS.\u001b[0m\n",
      "\u001b[38;5;159m[Genesis] [23:23:38] [INFO] Running at \u001b[38;5;121m61.62\u001b[0m\u001b[38;5;159m FPS.\u001b[0m\n",
      "\u001b[38;5;159m[Genesis] [23:23:38] [INFO] Running at \u001b[38;5;121m61.59\u001b[0m\u001b[38;5;159m FPS.\u001b[0m\n",
      "\u001b[38;5;159m[Genesis] [23:23:38] [INFO] Running at \u001b[38;5;121m61.58\u001b[0m\u001b[38;5;159m FPS.\u001b[0m\n",
      "\u001b[38;5;159m[Genesis] [23:23:38] [INFO] Running at \u001b[38;5;121m61.55\u001b[0m\u001b[38;5;159m FPS.\u001b[0m\n",
      "\u001b[38;5;159m[Genesis] [23:23:38] [INFO] Running at \u001b[38;5;121m59.66\u001b[0m\u001b[38;5;159m FPS.\u001b[0m\n",
      "\u001b[38;5;159m[Genesis] [23:23:38] [INFO] Running at \u001b[38;5;121m59.72\u001b[0m\u001b[38;5;159m FPS.\u001b[0m\n",
      "\u001b[38;5;159m[Genesis] [23:23:38] [INFO] Running at \u001b[38;5;121m59.80\u001b[0m\u001b[38;5;159m FPS.\u001b[0m\n",
      "\u001b[38;5;159m[Genesis] [23:23:38] [INFO] Running at \u001b[38;5;121m59.86\u001b[0m\u001b[38;5;159m FPS.\u001b[0m\n",
      "\u001b[38;5;159m[Genesis] [23:23:38] [INFO] Running at \u001b[38;5;121m59.91\u001b[0m\u001b[38;5;159m FPS.\u001b[0m\n",
      "\u001b[38;5;159m[Genesis] [23:23:38] [INFO] Running at \u001b[38;5;121m59.99\u001b[0m\u001b[38;5;159m FPS.\u001b[0m\n",
      "\u001b[38;5;159m[Genesis] [23:23:38] [INFO] Running at \u001b[38;5;121m60.05\u001b[0m\u001b[38;5;159m FPS.\u001b[0m\n",
      "\u001b[38;5;159m[Genesis] [23:23:38] [INFO] Running at \u001b[38;5;121m60.11\u001b[0m\u001b[38;5;159m FPS.\u001b[0m\n",
      "\u001b[38;5;159m[Genesis] [23:23:38] [INFO] Running at \u001b[38;5;121m60.16\u001b[0m\u001b[38;5;159m FPS.\u001b[0m\n",
      "\u001b[38;5;159m[Genesis] [23:23:38] [INFO] Running at \u001b[38;5;121m60.24\u001b[0m\u001b[38;5;159m FPS.\u001b[0m\n"
     ]
    }
   ],
   "source": [
    "#create scene\n",
    "scene = gs.Scene(show_viewer=True)\n",
    "#create пол (plane - ровный пол, есть другие варики)\n",
    "plane = scene.add_entity(gs.morphs.Plane())\n",
    "#create entity (поддерживаются разные форматы, этого я с локомотона вытащил, потому что больше всего похож на муравья, но 6 конечного робота я не нашел пока что)\n",
    "franka = scene.add_entity(\n",
    "    gs.morphs.URDF(file='urdf/go2/urdf/go2.urdf'),\n",
    ")\n",
    "#заставляем камеру фолловить, проверял на дроне, трекает его путь нормально\n",
    "scene.viewer.follow_entity(franka)\n",
    "\n",
    "follower_camera = scene.add_camera(res=(160,160),\n",
    "                                        pos=(0.0, 0.0, 0.5),\n",
    "                                        lookat=(0.0, 0.0, 0.5),\n",
    "                                        fov=40,\n",
    "                                        GUI=True)\n",
    " \n",
    "follower_camera.follow_entity(franka, fixed_axis=(None, None, 0.5), smoothing=0.5, fix_orientation=True)\n",
    "#билд сцены если раньше поставить то будет ошибка\n",
    "scene.build()\n",
    "\n",
    "for i in range(100):\n",
    "    if (i % 10 == 0):\n",
    "        im = Image.fromarray(follower_camera.render()[0])\n",
    "        im.save(f\"your_file{i}.png\")\n",
    "    scene.step()\n",
    "\n",
    "\n"
   ]
  }
 ],
 "metadata": {
  "kernelspec": {
   "display_name": "genesis",
   "language": "python",
   "name": "python3"
  },
  "language_info": {
   "codemirror_mode": {
    "name": "ipython",
    "version": 3
   },
   "file_extension": ".py",
   "mimetype": "text/x-python",
   "name": "python",
   "nbconvert_exporter": "python",
   "pygments_lexer": "ipython3",
   "version": "3.11.11"
  }
 },
 "nbformat": 4,
 "nbformat_minor": 2
}
